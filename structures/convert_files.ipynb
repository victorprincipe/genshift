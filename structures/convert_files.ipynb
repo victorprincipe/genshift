{
 "cells": [
  {
   "cell_type": "code",
   "execution_count": 7,
   "id": "3061ba92",
   "metadata": {},
   "outputs": [],
   "source": [
    "def cif_to_cfgxyz(cif_file):\n",
    "    cif = read(cif_file)\n",
    "    cif.set_array('spacegroup_kinds', None)\n",
    "    write(cif_file[:-3]+'xyz', cif)\n",
    "    write(cif_file[:-3]+'cfg', cif)"
   ]
  },
  {
   "cell_type": "code",
   "execution_count": 6,
   "id": "39136bcf",
   "metadata": {},
   "outputs": [
    {
     "data": {
      "text/plain": [
       "'blabla.xyz'"
      ]
     },
     "execution_count": 6,
     "metadata": {},
     "output_type": "execute_result"
    }
   ],
   "source": [
    "bla='blabla.cif'\n",
    "bla[:-3]+'xyz'"
   ]
  },
  {
   "cell_type": "code",
   "execution_count": 1,
   "id": "a2e9a5a9",
   "metadata": {},
   "outputs": [],
   "source": [
    "from ase.io import read,write"
   ]
  },
  {
   "cell_type": "code",
   "execution_count": 2,
   "id": "9d0e6882",
   "metadata": {},
   "outputs": [
    {
     "name": "stderr",
     "output_type": "stream",
     "text": [
      "/local/home/local/miniconda3/envs/edshiftml/lib/python3.6/site-packages/ase/io/cif.py:404: UserWarning: crystal system 'monoclinic' is not interpreted for space group Spacegroup(14, setting=1). This may result in wrong setting!\n",
      "  setting_name, spacegroup))\n"
     ]
    }
   ],
   "source": [
    "alpha_gly = read('alpha_glycine.cif')"
   ]
  },
  {
   "cell_type": "code",
   "execution_count": 3,
   "id": "3e745d27",
   "metadata": {},
   "outputs": [],
   "source": [
    "alpha_gly.set_array('spacegroup_kinds', None)"
   ]
  },
  {
   "cell_type": "code",
   "execution_count": 19,
   "id": "e8201807",
   "metadata": {},
   "outputs": [],
   "source": [
    "write('alpha_glycine.xyz', alpha_gly)\n",
    "write('alpha_glycine.cfg', alpha_gly)"
   ]
  },
  {
   "cell_type": "code",
   "execution_count": 18,
   "id": "4d6c57a2",
   "metadata": {},
   "outputs": [
    {
     "data": {
      "text/plain": [
       "{'numbers': array([7, 7, 7, 7, 1, 1, 1, 1, 1, 1, 1, 1, 1, 1, 1, 1, 6, 6, 6, 6, 1, 1,\n",
       "        1, 1, 1, 1, 1, 1, 6, 6, 6, 6, 8, 8, 8, 8, 8, 8, 8, 8]),\n",
       " 'positions': array([[ 3.68086278,  5.1194895 ,  1.24890111],\n",
       "        [ 3.15049468, 11.3369895 ,  1.34540946],\n",
       "        [-0.46414786,  7.3155105 ,  3.93972002],\n",
       "        [ 0.06622025,  1.0980105 ,  3.84321167],\n",
       "        [ 4.00133246,  4.9553475 ,  0.22829933],\n",
       "        [ 2.83002501, 11.1728475 ,  2.36601123],\n",
       "        [-0.78461753,  7.4796525 ,  4.9603218 ],\n",
       "        [ 0.38668992,  1.2621525 ,  2.82260989],\n",
       "        [ 4.43166124,  4.735248  ,  1.92497844],\n",
       "        [ 2.39969623, 10.952748  ,  0.66933213],\n",
       "        [-1.21494631,  7.699752  ,  3.26364269],\n",
       "        [ 0.8170187 ,  1.482252  ,  4.519289  ],\n",
       "        [ 3.55233918,  6.180195  ,  1.41649357],\n",
       "        [ 3.27901829, 12.397695  ,  1.177817  ],\n",
       "        [-0.33562425,  6.254805  ,  3.77212756],\n",
       "        [-0.06230336,  0.037305  ,  4.01080413],\n",
       "        [ 2.37213697,  4.406964  ,  1.48757768],\n",
       "        [ 4.45922049, 10.624464  ,  1.10673289],\n",
       "        [ 0.84457796,  8.028036  ,  3.70104345],\n",
       "        [-1.24250557,  1.810536  ,  4.08188824],\n",
       "        [ 2.51697625,  3.270405  ,  1.32776815],\n",
       "        [ 4.31438121,  9.487905  ,  1.26654242],\n",
       "        [ 0.69973868,  9.164595  ,  3.86085298],\n",
       "        [-1.09766629,  2.947095  ,  3.92207871],\n",
       "        [ 1.58895409,  4.777527  ,  0.72640696],\n",
       "        [ 0.01940337, 10.995027  ,  1.86790361],\n",
       "        [ 1.62776084,  7.657473  ,  4.46221417],\n",
       "        [ 3.19731155,  1.439973  ,  3.32071752],\n",
       "        [ 1.84798275,  4.665612  ,  2.94039159],\n",
       "        [ 2.97708964, 10.883112  ,  4.8425401 ],\n",
       "        [ 1.36873218,  7.769388  ,  2.24822953],\n",
       "        [ 0.23962529,  1.551888  ,  0.34608103],\n",
       "        [ 2.72869503,  5.0448795 ,  3.82349491],\n",
       "        [ 2.09637736, 11.2623795 ,  3.95943678],\n",
       "        [ 0.4880199 ,  7.3901205 ,  1.36512622],\n",
       "        [ 1.12033757,  1.1726205 ,  1.22918435],\n",
       "        [ 0.60384632,  4.4803305 ,  3.1484553 ],\n",
       "        [-1.00177393, 10.6978305 ,  4.63447639],\n",
       "        [ 2.61286861,  7.9546695 ,  2.04016583],\n",
       "        [ 4.21848885,  1.7371695 ,  0.55414474]])}"
      ]
     },
     "execution_count": 18,
     "metadata": {},
     "output_type": "execute_result"
    }
   ],
   "source": [
    "alpha_gly.arrays"
   ]
  },
  {
   "cell_type": "code",
   "execution_count": null,
   "id": "813dba01",
   "metadata": {},
   "outputs": [],
   "source": []
  }
 ],
 "metadata": {
  "kernelspec": {
   "display_name": "Python 3",
   "language": "python",
   "name": "python3"
  },
  "language_info": {
   "codemirror_mode": {
    "name": "ipython",
    "version": 3
   },
   "file_extension": ".py",
   "mimetype": "text/x-python",
   "name": "python",
   "nbconvert_exporter": "python",
   "pygments_lexer": "ipython3",
   "version": "3.6.13"
  }
 },
 "nbformat": 4,
 "nbformat_minor": 5
}
