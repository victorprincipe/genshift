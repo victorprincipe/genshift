{
 "cells": [
  {
   "cell_type": "code",
   "execution_count": 1,
   "metadata": {},
   "outputs": [],
   "source": [
    "# formatting input and ouput files for PIMD"
   ]
  },
  {
   "cell_type": "code",
   "execution_count": 2,
   "metadata": {},
   "outputs": [],
   "source": [
    "from ase.io import read\n",
    "from math import pi, sqrt\n",
    "import numpy as np\n",
    "from ase.io.extxyz import write_extxyz, write_xyz\n",
    "from ase.io.dftb import write_dftb\n",
    "from ase.atoms import Atoms\n",
    "import math\n",
    "from ase.io.cfg import write_cfg"
   ]
  },
  {
   "cell_type": "code",
   "execution_count": 3,
   "metadata": {},
   "outputs": [],
   "source": [
    "def read_xyz(filename, index):\n",
    "    with open(filename, \"r\") as fileobj:\n",
    "        lines = fileobj.readlines()\n",
    "        images = []\n",
    "        while len(lines) > 0:\n",
    "            symbols = []\n",
    "            positions = []\n",
    "            natoms = int(lines.pop(0))\n",
    "            comment =  lines.pop(0) \n",
    "            cell_values = [float(comment.split()[i]) for i in range(2,8)]\n",
    "            for _ in range(natoms):\n",
    "                line = lines.pop(0)\n",
    "                symbol, x, y, z = line.split()[:4]\n",
    "                symbol = symbol.lower().capitalize()\n",
    "                symbols.append(symbol)\n",
    "                positions.append([float(x), float(y), float(z)])\n",
    "            images.append(Atoms(symbols=symbols, positions=positions, pbc=True, cell=cell_values))\n",
    "    return images"
   ]
  },
  {
   "cell_type": "code",
   "execution_count": 7,
   "metadata": {},
   "outputs": [],
   "source": [
    "path_to_folder = \"PI_NVT/succinic_beta/\""
   ]
  },
  {
   "cell_type": "code",
   "execution_count": 8,
   "metadata": {},
   "outputs": [],
   "source": [
    "in_file = read_xyz(path_to_folder + \"init.xyz\", \":\")[0]\n",
    "write_extxyz(path_to_folder + \"init.extxyz\", in_file)\n",
    "write_dftb(path_to_folder + \"init.gen\", in_file)\n",
    "#write_cfg(path_to_folder + \"init.cfg\", in_file)\n"
   ]
  },
  {
   "cell_type": "code",
   "execution_count": 9,
   "metadata": {},
   "outputs": [
    {
     "name": "stdout",
     "output_type": "stream",
     "text": [
      "[ 5.4793  8.794   5.0442 90.     92.502  90.    ]\n",
      "[4, 3, 4]\n",
      "[4, 3, 4]\n",
      "['C' 'H' 'O']\n"
     ]
    },
    {
     "data": {
      "text/plain": [
       "Atoms(symbols='O8C4H8C4H4', pbc=True, cell=[[5.4793, 0.0, 0.0], [0.0, 8.794, 0.0], [-0.22020082182526074, 0.0, 5.039391355914669]])"
      ]
     },
     "execution_count": 9,
     "metadata": {},
     "output_type": "execute_result"
    }
   ],
   "source": [
    "kpoint_density = 0.05\n",
    "# calculate kpoints from cell lengths\n",
    "db = read(path_to_folder+\"init.extxyz\",':')\n",
    "for ifrm,frm in enumerate(db):\n",
    "    cleang = frm.get_cell_lengths_and_angles()\n",
    "    print(cleang)\n",
    "    kpoint = [int(math.ceil(\n",
    "      1/( kpoint_density*float(cleang[it]))\n",
    "      )) for it in range(0,3)]\n",
    "    print(kpoint)\n",
    "    print(kpoint)\n",
    "    frm.info['kpts'] = np.asarray(kpoint)\n",
    "    print(np.unique(frm.get_chemical_symbols()))\n",
    "db[0]"
   ]
  },
  {
   "cell_type": "code",
   "execution_count": 10,
   "metadata": {},
   "outputs": [],
   "source": [
    "#glycine = read_xyz(path_to_folder + \"simulation.pos_00.xyz\", index=':')\n",
    "#write_xyz(path_to_folder +  \"simulation.pos_0_ext.xyz\", glycine)"
   ]
  },
  {
   "cell_type": "code",
   "execution_count": 13,
   "metadata": {},
   "outputs": [
    {
     "name": "stdout",
     "output_type": "stream",
     "text": [
      "[4.869, 11.139, 5.378]\n",
      "[5, 2, 4]\n"
     ]
    }
   ],
   "source": [
    "kpd=0.05\n",
    "lengsangs = [4.869, 11.139, 5.378]\n",
    "print(lengsangs)\n",
    "kpoint = [int(\n",
    "    math.ceil(\n",
    "      1/( kpd*float(lengsangs[i]) )\n",
    "      )\n",
    "  ) for i in range(0,3)]\n",
    "print(kpoint)"
   ]
  },
  {
   "cell_type": "code",
   "execution_count": null,
   "metadata": {},
   "outputs": [],
   "source": []
  }
 ],
 "metadata": {
  "interpreter": {
   "hash": "31f2aee4e71d21fbe5cf8b01ff0e069b9275f58929596ceb00d14d90e3e16cd6"
  },
  "kernelspec": {
   "display_name": "Python 3",
   "language": "python",
   "name": "python3"
  },
  "language_info": {
   "codemirror_mode": {
    "name": "ipython",
    "version": 3
   },
   "file_extension": ".py",
   "mimetype": "text/x-python",
   "name": "python",
   "nbconvert_exporter": "python",
   "pygments_lexer": "ipython3",
   "version": "3.6.13"
  }
 },
 "nbformat": 4,
 "nbformat_minor": 2
}
