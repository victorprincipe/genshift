{
 "cells": [
  {
   "cell_type": "code",
   "execution_count": 1,
   "metadata": {},
   "outputs": [],
   "source": [
    "# formatting input and ouput files for PIMD"
   ]
  },
  {
   "cell_type": "code",
   "execution_count": 1,
   "metadata": {},
   "outputs": [],
   "source": [
    "from ase.io import read\n",
    "from math import pi, sqrt\n",
    "import numpy as np\n",
    "from ase.io.extxyz import write_extxyz, write_xyz\n",
    "from ase.io.dftb import write_dftb\n",
    "from ase.atoms import Atoms\n",
    "import math\n",
    "from ase.io.cfg import write_cfg"
   ]
  },
  {
   "cell_type": "code",
   "execution_count": 3,
   "metadata": {},
   "outputs": [],
   "source": [
    "def read_xyz(filename, index):\n",
    "    with open(filename, \"r\") as fileobj:\n",
    "        lines = fileobj.readlines()\n",
    "        images = []\n",
    "        while len(lines) > 0:\n",
    "            symbols = []\n",
    "            positions = []\n",
    "            natoms = int(lines.pop(0))\n",
    "            comment =  lines.pop(0) \n",
    "            cell_values = [float(comment.split()[i]) for i in range(2,8)]\n",
    "            for _ in range(natoms):\n",
    "                line = lines.pop(0)\n",
    "                symbol, x, y, z = line.split()[:4]\n",
    "                symbol = symbol.lower().capitalize()\n",
    "                symbols.append(symbol)\n",
    "                positions.append([float(x), float(y), float(z)])\n",
    "            images.append(Atoms(symbols=symbols, positions=positions, pbc=True, cell=cell_values))\n",
    "    return images"
   ]
  },
  {
   "cell_type": "code",
   "execution_count": 6,
   "metadata": {},
   "outputs": [],
   "source": [
    "path_to_folder = \"PI_NVT/glycine_alpha/lmp_run/\""
   ]
  },
  {
   "cell_type": "code",
   "execution_count": 7,
   "metadata": {},
   "outputs": [],
   "source": [
    "glycine = read_xyz(path_to_folder + \"simulation.pos_00.xyz\", index=':')\n",
    "write_xyz(path_to_folder +  \"simulation.pos_0_ext.xyz\", glycine)"
   ]
  },
  {
   "cell_type": "code",
   "execution_count": 4,
   "metadata": {},
   "outputs": [],
   "source": [
    "b = read_xyz(path_to_folder + \"init.xyz\", \":\")[0]\n",
    "write_extxyz(path_to_folder + \"init.extxyz\", glycine)\n",
    "write_dftb(path_to_folder + \"init.gen\", glycine)\n",
    "write_cfg(path_to_folder + \"init.cfg\", b)\n"
   ]
  },
  {
   "cell_type": "code",
   "execution_count": 35,
   "metadata": {},
   "outputs": [
    {
     "name": "stdout",
     "output_type": "stream",
     "text": [
      "[ 5.862  8.341 10.962 90.    90.    90.   ]\n",
      "[4, 3, 2]\n",
      "[4, 3, 2]\n",
      "['C' 'H' 'N' 'O']\n"
     ]
    },
    {
     "name": "stderr",
     "output_type": "stream",
     "text": [
      "/home/lumiaro/anaconda3/envs/lammps/lib/python3.9/site-packages/ase/utils/__init__.py:62: FutureWarning: Please use atoms.cell.cellpar() instead\n",
      "  warnings.warn(warning)\n"
     ]
    },
    {
     "data": {
      "text/plain": [
       "Atoms(symbols='O8C8N4H20', pbc=True, cell=[5.862, 8.341, 10.962])"
      ]
     },
     "execution_count": 35,
     "metadata": {},
     "output_type": "execute_result"
    }
   ],
   "source": [
    "kpoint_density = 0.05\n",
    "# calculate kpoints from cell lengths\n",
    "db = read(\"init.extxyz\",':')\n",
    "for ifrm,frm in enumerate(db):\n",
    "  cleang = frm.get_cell_lengths_and_angles()\n",
    "  print(cleang)\n",
    "  kpoint = [int(\n",
    "    math.ceil(\n",
    "      1/( kpoint_density*float(cleang[it]) )\n",
    "      )\n",
    "  ) for it in range(0,3)]\n",
    "  print(kpoint)\n",
    "  print(kpoint)\n",
    "  frm.info['kpts'] = np.asarray(kpoint)\n",
    "  print(np.unique(frm.get_chemical_symbols()))\n",
    "db[0]"
   ]
  }
 ],
 "metadata": {
  "interpreter": {
   "hash": "31f2aee4e71d21fbe5cf8b01ff0e069b9275f58929596ceb00d14d90e3e16cd6"
  },
  "kernelspec": {
   "display_name": "Python 3",
   "language": "python",
   "name": "python3"
  },
  "language_info": {
   "codemirror_mode": {
    "name": "ipython",
    "version": 3
   },
   "file_extension": ".py",
   "mimetype": "text/x-python",
   "name": "python",
   "nbconvert_exporter": "python",
   "pygments_lexer": "ipython3",
   "version": "3.6.13"
  }
 },
 "nbformat": 4,
 "nbformat_minor": 2
}
